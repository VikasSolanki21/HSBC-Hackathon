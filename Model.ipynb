{
 "cells": [
  {
   "cell_type": "code",
   "execution_count": 1,
   "metadata": {
    "collapsed": true
   },
   "outputs": [],
   "source": [
    "import pandas as pd\n",
    "import numpy as np\n",
    "from sklearn.linear_model import Ridge"
   ]
  },
  {
   "cell_type": "code",
   "execution_count": 2,
   "metadata": {
    "collapsed": true
   },
   "outputs": [],
   "source": [
    "#[DONOTCHANGE]\n",
    "#3rd step - all parameters\n",
    "class Parameters(object):\n",
    "    pass\n",
    "\n",
    "param = Parameters()\n",
    "param.tickSize = 0.5 #tick size is 0.5 GBp i.e. 0.005 GBP\n",
    "\n",
    "param.fileDirectory = './intraday'\n",
    "\n",
    "param.trade_InSampleFile = 'trade_in.csv'\n",
    "param.quote_InSampleFile = 'quote_in.csv'\n",
    "\n",
    "param.trade_OutSampleFile = 'trade_out.csv'\n",
    "param.quote_OutSampleFile = 'quote_out.csv'\n",
    "\n",
    "#4th step - Model specific parameters\n",
    "param.imbalanceThreshold = 0.7\n",
    "param.timeDuration = 30 #30 seconds"
   ]
  },
  {
   "cell_type": "code",
   "execution_count": 11,
   "metadata": {
    "collapsed": true
   },
   "outputs": [],
   "source": [
    "#Initialise libraries and functions\n",
    "from sklearn.metrics import mean_squared_error\n",
    "from math import sqrt\n",
    "\n",
    "import os\n",
    "\n",
    "#Disable certain warnings\n",
    "pd.options.mode.chained_assignment = None\n",
    "\n",
    "\n",
    "#Identify future mid prices - 30 seconds duration\n",
    "#Changes are made in this function to extract features and target variable is changed from \"futMid\" to \"futMid30S\"\n",
    "def IdentifyFutureMidPrices(df, predictionDuration = '30S'):\n",
    "    futureData = df.resample(predictionDuration, on = 'datetime').first()\n",
    "    futureData = futureData.shift(periods=-1)\n",
    "    futureData.drop(columns = ['datetime', 'sym', 'bsize', 'bid', 'ask', 'asize'], inplace = True)\n",
    "    futureData.rename(columns = {\"mid\":\"futMid\"+predictionDuration}, inplace = True)\n",
    "    futureData.reset_index(inplace = True)\n",
    "    return pd.merge_asof(df, futureData[['datetime', 'futMid'+predictionDuration]], on='datetime')\n",
    "    \n",
    "\n",
    "def ReadCSV(file):\n",
    "    print('Loading file - ' + file)\n",
    "    df = pd.read_csv(file)\n",
    "    df['datetime'] = pd.to_datetime(df['datetime'], format=\"%Y-%m-%dD%H:%M:%S.%f\")\n",
    "    return df\n",
    "\n",
    "#Load data\n",
    "def LoadData(path, tradeFile, quoteFile):\n",
    "    tradeFile = os.path.join(path, tradeFile)\n",
    "    quoteFile = os.path.join(path, quoteFile)\n",
    "\n",
    "    trade_df = ReadCSV(tradeFile)\n",
    "    quote_df = ReadCSV(quoteFile)\n",
    "    \n",
    "    quote_df['mid'] = 0.5*(quote_df['bid'].copy() + quote_df['ask'].copy())\n",
    "    quote_df['midChangeGroup'] = quote_df['mid'].diff().ne(0).cumsum()\n",
    "    quote_df = IdentifyFutureMidPrices(quote_df)\n",
    "   \n",
    "    print('Files loaded')\n",
    "    return trade_df, quote_df\n",
    "\n",
    "#Evaluation function\n",
    "#df should contain columns - datetime, sym, bsize, bid, ask, asize, predMid (model predicted mid-price)\n",
    "#Function to evaluate results\n",
    "def RMS(df):\n",
    "    df['futMid'] = df['futMid30S']\n",
    "    df = df.groupby(['midChangeGroup']).first().reset_index()\n",
    "    tmp = df.dropna(subset=['predMid', 'futMid'])\n",
    "    rms = sqrt(mean_squared_error(tmp['futMid'], tmp['predMid']))\n",
    "    predCount = len(tmp['predMid'])\n",
    "    print('RMS = %.4f. #Predictions = %s' % (rms, predCount))"
   ]
  },
  {
   "cell_type": "code",
   "execution_count": 5,
   "metadata": {
    "collapsed": false
   },
   "outputs": [
    {
     "name": "stdout",
     "output_type": "stream",
     "text": [
      "Loading file - ./intraday/trade_in.csv\n",
      "Loading file - ./intraday/quote_in.csv\n",
      "Files loaded\n"
     ]
    }
   ],
   "source": [
    "tradeIndf, quoteIndf = LoadData(param.fileDirectory, param.trade_InSampleFile, param.quote_InSampleFile)"
   ]
  },
  {
   "cell_type": "code",
   "execution_count": 6,
   "metadata": {
    "collapsed": false
   },
   "outputs": [
    {
     "name": "stdout",
     "output_type": "stream",
     "text": [
      "Prediction model\n"
     ]
    }
   ],
   "source": [
    "#6th Step\n",
    "#Train the model using in-sample data\n",
    "\n",
    "#Use a pickle to save the trained data or a function with all required calculations\n",
    "#For ex: a regression/neural network trained model should be saved to pickle and loaded in PredictionModel\n",
    "#Another option to define a function for all calculations to predict\n",
    "#def Predict(quote_df, trade_df):\n",
    "#    define all required calculations\n",
    "\n",
    "\n",
    "#Using training data, below model has been designed. You should aim to improve this model\n",
    "#When mid price changes and \n",
    "# imbalance is >  0.7 (param.imbalanceThreshold), predict that mid-price will tick-up\n",
    "# imbalance is < -0.7 (param.imbalanceThreshold), predict that mid-price will tick-down\n",
    "def InSamplePredictionModel(quote_df, trade_df):\n",
    "    #Load pickle to predict or use a function Predict()\n",
    "    print('Prediction model')    \n",
    "    quote_df['tick'] = np.nan\n",
    "    quote_df['predMid'] = np.nan\n",
    "    \n",
    "    #extracting timestamp features\n",
    "    quote_df['hour']=quote_df.datetime.dt.hour\n",
    "    quote_df['minute']=quote_df.datetime.dt.minute\n",
    "    quote_df['second']=quote_df.datetime.dt.second\n",
    "    \n",
    "    quote_df['midChanged'] = quote_df['mid'].diff()\n",
    "    quote_df['imbalance'] = (quote_df['bsize']-quote_df['asize'])/(quote_df['bsize']+quote_df['asize'])\n",
    "    quote_df.loc[(quote_df['midChanged'] != 0) & (quote_df['imbalance'] > param.imbalanceThreshold), 'tick'] = 1\n",
    "    quote_df.loc[(quote_df['midChanged'] != 0) & (quote_df['imbalance'] < -param.imbalanceThreshold), 'tick'] = -1\n",
    "    quote_df.dropna(subset=['futMid30S'],inplace=True)\n",
    "    \n",
    "    #creating lags\n",
    "    for i in range(1,30):\n",
    "       \n",
    "        pd = '%d'%i + 'S'\n",
    "        quote_df = IdentifyFutureMidPrices(quote_df,predictionDuration=pd) \n",
    "    \n",
    "    return quote_df\n",
    "\n",
    "quote_df = InSamplePredictionModel(quoteIndf,tradeIndf)\n",
    "#quote_df.to_csv('train.csv',index=False)\n",
    "#quote_df = pd.read_csv('train.csv')"
   ]
  },
  {
   "cell_type": "code",
   "execution_count": 8,
   "metadata": {
    "collapsed": false
   },
   "outputs": [],
   "source": [
    "target = 'futMid30S'\n",
    "features = ['futMid7S','futMid8S'\n",
    "       ,'futMid10S','futMid11S','futMid12S','futMid13S','futMid14S','futMid15S',  'futMid20S','futMid22S', 'futMid23S','futMid24S','futMid25S'\n",
    "       ,'futMid26S','futMid27S' ,'futMid28S','futMid29S']\n",
    "\n",
    "def MachineLearningModel(quote_df,trade_df):\n",
    "    df = quote_df\n",
    "    df.dropna(subset=features+[target],inplace=True)\n",
    "    model = Ridge(alpha=30000)\n",
    "    trainX = np.array(df[features])\n",
    "    trainY = np.array(df[target])\n",
    "    model.fit(trainX,trainY)\n",
    "    \n",
    "    return (model)\n",
    "\n",
    "model = MachineLearningModel(quote_df,tradeIndf)"
   ]
  },
  {
   "cell_type": "code",
   "execution_count": 9,
   "metadata": {
    "collapsed": false
   },
   "outputs": [
    {
     "name": "stdout",
     "output_type": "stream",
     "text": [
      "Loading file - ./intraday/trade_out.csv\n",
      "Loading file - ./intraday/quote_out.csv\n",
      "Files loaded\n",
      "Prediction model\n"
     ]
    }
   ],
   "source": [
    "#7th step\n",
    "#Predict with the trained model using out_sample data\n",
    "\n",
    "#Load the out-sample csv if not in memory\n",
    "#Do not change tick frequency for outsample dataframe\n",
    "dirContents = dir()\n",
    "if not ('tradeOutdf' in dirContents and 'quoteOutdf' in dirContents):\n",
    "    tradeOutdf, quoteOutdf = LoadData(param.fileDirectory, param.trade_OutSampleFile, param.quote_OutSampleFile)\n",
    "    \n",
    "quote_test = InSamplePredictionModel(quoteOutdf, tradeOutdf)\n",
    "#quote_test.to_csv('test1.csv',index=False)\n",
    "#quote_test = pd.read_csv('test.csv')\n",
    "\n",
    "def OutSamplePrediction(quote_df, trade_df): \n",
    "    print('Out-sample prediction')  \n",
    "    \n",
    "    quote_df.dropna(subset=features+[target],inplace=True)\n",
    "    return (quote_df)\n"
   ]
  },
  {
   "cell_type": "code",
   "execution_count": null,
   "metadata": {
    "collapsed": true
   },
   "outputs": [],
   "source": [
    "#Printing results\n",
    "\n",
    "res = OutSamplePrediction(quote_test, tradeOutdf)\n",
    "res['predMid']=model.predict(res[features]) \n",
    "#res.to_csv('submission.csv',index=False)\n",
    "print (RMS(res))"
   ]
  }
 ],
 "metadata": {
  "kernelspec": {
   "display_name": "Python 3",
   "language": "python",
   "name": "python3"
  },
  "language_info": {
   "codemirror_mode": {
    "name": "ipython",
    "version": 3
   },
   "file_extension": ".py",
   "mimetype": "text/x-python",
   "name": "python",
   "nbconvert_exporter": "python",
   "pygments_lexer": "ipython3",
   "version": "3.5.2"
  }
 },
 "nbformat": 4,
 "nbformat_minor": 2
}
